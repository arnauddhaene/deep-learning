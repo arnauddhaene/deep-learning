{
 "cells": [
  {
   "cell_type": "code",
   "execution_count": 1,
   "metadata": {},
   "outputs": [],
   "source": [
    "import torch\n",
    "import time"
   ]
  },
  {
   "cell_type": "markdown",
   "metadata": {},
   "source": [
    "## 1 Multiple views of a storage"
   ]
  },
  {
   "cell_type": "code",
   "execution_count": 2,
   "metadata": {},
   "outputs": [],
   "source": [
    "ones = torch.full((13, 13), 1)"
   ]
  },
  {
   "cell_type": "code",
   "execution_count": 3,
   "metadata": {},
   "outputs": [],
   "source": [
    "ones[ 1, :] = torch.full((1, 13), 2)\n",
    "ones[ 6, :] = torch.full((1, 13), 2)\n",
    "ones[11, :] = torch.full((1, 13), 2)\n",
    "\n",
    "ones[:,  1] = torch.full((1, 13), 2)\n",
    "ones[:,  6] = torch.full((1, 13), 2)\n",
    "ones[:, 11] = torch.full((1, 13), 2)\n",
    "\n",
    "ones[ 3:5,  3:5] = torch.full((2, 2), 3)\n",
    "ones[ 3:5, 8:10] = torch.full((2, 2), 3)\n",
    "ones[8:10,  3:5] = torch.full((2, 2), 3)\n",
    "ones[8:10, 8:10] = torch.full((2, 2), 3)"
   ]
  },
  {
   "cell_type": "code",
   "execution_count": 4,
   "metadata": {},
   "outputs": [
    {
     "data": {
      "text/plain": [
       "tensor([[1, 2, 1, 1, 1, 1, 2, 1, 1, 1, 1, 2, 1],\n",
       "        [2, 2, 2, 2, 2, 2, 2, 2, 2, 2, 2, 2, 2],\n",
       "        [1, 2, 1, 1, 1, 1, 2, 1, 1, 1, 1, 2, 1],\n",
       "        [1, 2, 1, 3, 3, 1, 2, 1, 3, 3, 1, 2, 1],\n",
       "        [1, 2, 1, 3, 3, 1, 2, 1, 3, 3, 1, 2, 1],\n",
       "        [1, 2, 1, 1, 1, 1, 2, 1, 1, 1, 1, 2, 1],\n",
       "        [2, 2, 2, 2, 2, 2, 2, 2, 2, 2, 2, 2, 2],\n",
       "        [1, 2, 1, 1, 1, 1, 2, 1, 1, 1, 1, 2, 1],\n",
       "        [1, 2, 1, 3, 3, 1, 2, 1, 3, 3, 1, 2, 1],\n",
       "        [1, 2, 1, 3, 3, 1, 2, 1, 3, 3, 1, 2, 1],\n",
       "        [1, 2, 1, 1, 1, 1, 2, 1, 1, 1, 1, 2, 1],\n",
       "        [2, 2, 2, 2, 2, 2, 2, 2, 2, 2, 2, 2, 2],\n",
       "        [1, 2, 1, 1, 1, 1, 2, 1, 1, 1, 1, 2, 1]])"
      ]
     },
     "execution_count": 4,
     "metadata": {},
     "output_type": "execute_result"
    }
   ],
   "source": [
    "ones"
   ]
  },
  {
   "cell_type": "markdown",
   "metadata": {},
   "source": [
    "## 2 Eigendecomposition"
   ]
  },
  {
   "cell_type": "code",
   "execution_count": 5,
   "metadata": {},
   "outputs": [
    {
     "data": {
      "text/plain": [
       "<torch._C.Generator at 0x7fadc70c8f30>"
      ]
     },
     "execution_count": 5,
     "metadata": {},
     "output_type": "execute_result"
    }
   ],
   "source": [
    "seed = 27\n",
    "torch.random.manual_seed(seed)"
   ]
  },
  {
   "cell_type": "code",
   "execution_count": 6,
   "metadata": {},
   "outputs": [],
   "source": [
    "M = torch.normal(mean=0.0, std=1.0, size=(20,20))"
   ]
  },
  {
   "cell_type": "code",
   "execution_count": 7,
   "metadata": {},
   "outputs": [],
   "source": [
    "A = M @ torch.diag(torch.arange(1, 21, dtype=torch.float)) @ torch.inverse(M)"
   ]
  },
  {
   "cell_type": "code",
   "execution_count": 8,
   "metadata": {},
   "outputs": [],
   "source": [
    "eigval, _ = A.eig()"
   ]
  },
  {
   "cell_type": "code",
   "execution_count": 10,
   "metadata": {},
   "outputs": [
    {
     "data": {
      "text/plain": [
       "tensor([ 1.0000,  2.0000,  3.0000,  4.0000,  5.0000,  6.0000,  7.0000,  8.0000,\n",
       "         9.0000, 10.0000, 11.0000, 12.0000, 13.0000, 14.0000, 15.0000, 16.0000,\n",
       "        17.0000, 18.0000, 19.0000, 20.0000])"
      ]
     },
     "execution_count": 10,
     "metadata": {},
     "output_type": "execute_result"
    }
   ],
   "source": [
    "eigval[:, 0].sort()[0]"
   ]
  },
  {
   "cell_type": "markdown",
   "metadata": {},
   "source": [
    "## 3 Flops per second"
   ]
  },
  {
   "cell_type": "code",
   "execution_count": 126,
   "metadata": {},
   "outputs": [],
   "source": [
    "I = torch.empty((5000, 5000)).normal_()\n",
    "J = torch.empty((5000, 5000)).normal_()"
   ]
  },
  {
   "cell_type": "code",
   "execution_count": 127,
   "metadata": {},
   "outputs": [
    {
     "name": "stdout",
     "output_type": "stream",
     "text": [
      "Computation time: 27.209303716997965 seconds.\n"
     ]
    }
   ],
   "source": [
    "start = time.perf_counter()\n",
    "I @ J \n",
    "end = time.perf_counter()\n",
    "\n",
    "duration = end - start\n",
    "\n",
    "print(f\"Computation time: {duration} seconds.\")"
   ]
  },
  {
   "cell_type": "code",
   "execution_count": 83,
   "metadata": {},
   "outputs": [],
   "source": [
    "# matrix-matrix product of MxN with NxL has complexity 2MNL - ML FLOPs\n",
    "# c.f. page 6 of https://mediatum.ub.tum.de/doc/625604/625604\n",
    "flops = 2 * 5000 ** 3 - 5000 ** 2"
   ]
  },
  {
   "cell_type": "code",
   "execution_count": 84,
   "metadata": {},
   "outputs": [
    {
     "data": {
      "text/plain": [
       "9707102613.518362"
      ]
     },
     "execution_count": 84,
     "metadata": {},
     "output_type": "execute_result"
    }
   ],
   "source": [
    "# FLOPs per second - should be in the billions or tens of billions\n",
    "flops / duration"
   ]
  },
  {
   "cell_type": "markdown",
   "metadata": {},
   "source": [
    "## 4 Playing with strides"
   ]
  },
  {
   "cell_type": "code",
   "execution_count": 149,
   "metadata": {},
   "outputs": [],
   "source": [
    "def mul_row(tensor):\n",
    "    \n",
    "    m, n = tensor.size()\n",
    "    \n",
    "    result = torch.empty(m, n)\n",
    "    \n",
    "    for i in range(m):\n",
    "        for j in range(n):\n",
    "            result[i, j] = tensor[i, j] * (i + 1)\n",
    "            \n",
    "    return result"
   ]
  },
  {
   "cell_type": "code",
   "execution_count": 150,
   "metadata": {},
   "outputs": [],
   "source": [
    "mul_row_fast = lambda tensor: torch.mul(torch.arange(1, tensor.size()[0] + 1).view(tensor.size()[0], -1), tensor)"
   ]
  },
  {
   "cell_type": "markdown",
   "metadata": {},
   "source": [
    "#### Test"
   ]
  },
  {
   "cell_type": "code",
   "execution_count": 155,
   "metadata": {},
   "outputs": [],
   "source": [
    "def test_speed_mul_row(tensor):\n",
    "    start_slow = time.perf_counter()\n",
    "    slow = mul_row(m)\n",
    "    end_slow = time.perf_counter()\n",
    "\n",
    "    start_fast = time.perf_counter()\n",
    "    fast = mul_row_fast(m)\n",
    "    end_fast = time.perf_counter()\n",
    "\n",
    "    duration_slow = (end_slow - start_slow) * 1e3\n",
    "    duration_fast = (end_fast - start_fast) * 1e3\n",
    "\n",
    "    print(f\"Slow: {duration_slow:.3f} ms | Fast: {duration_fast:.3f} ms | Speed-up ratio: {duration_slow / duration_fast:.3f}\")\n",
    "    \n",
    "#     return duration_slow, duration_fast"
   ]
  },
  {
   "cell_type": "code",
   "execution_count": 156,
   "metadata": {},
   "outputs": [],
   "source": [
    "m = torch.full((4, 8), 2.0)\n",
    "M = torch.full((1000, 400), 2.0)"
   ]
  },
  {
   "cell_type": "code",
   "execution_count": 157,
   "metadata": {},
   "outputs": [
    {
     "name": "stdout",
     "output_type": "stream",
     "text": [
      "Slow: 2.095 ms | Fast: 0.284 ms | Speed-up ratio: 7.390\n"
     ]
    }
   ],
   "source": [
    "test_speed_mul_row(m)"
   ]
  },
  {
   "cell_type": "code",
   "execution_count": 158,
   "metadata": {},
   "outputs": [
    {
     "name": "stdout",
     "output_type": "stream",
     "text": [
      "Slow: 2.882 ms | Fast: 0.172 ms | Speed-up ratio: 16.796\n"
     ]
    }
   ],
   "source": [
    "test_speed_mul_row(M)"
   ]
  }
 ],
 "metadata": {
  "kernelspec": {
   "display_name": "deep-learning",
   "language": "python",
   "name": "deep-learning"
  },
  "language_info": {
   "codemirror_mode": {
    "name": "ipython",
    "version": 3
   },
   "file_extension": ".py",
   "mimetype": "text/x-python",
   "name": "python",
   "nbconvert_exporter": "python",
   "pygments_lexer": "ipython3",
   "version": "3.6.9"
  }
 },
 "nbformat": 4,
 "nbformat_minor": 4
}
